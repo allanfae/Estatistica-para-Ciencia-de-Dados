{
  "nbformat": 4,
  "nbformat_minor": 0,
  "metadata": {
    "colab": {
      "name": "Allan Bruno Faé - Data Science - SI6N.ipynb",
      "provenance": [],
      "authorship_tag": "ABX9TyN8hrIuwqmSuQxk4Y8Haxyz",
      "include_colab_link": true
    },
    "kernelspec": {
      "name": "python3",
      "display_name": "Python 3"
    },
    "language_info": {
      "name": "python"
    }
  },
  "cells": [
    {
      "cell_type": "markdown",
      "metadata": {
        "id": "view-in-github",
        "colab_type": "text"
      },
      "source": [
        "<a href=\"https://colab.research.google.com/github/allanfae/Estatistica-para-Ciencia-de-Dados/blob/main/Allan_Bruno_Fa%C3%A9_Data_Science_SI6N.ipynb\" target=\"_parent\"><img src=\"https://colab.research.google.com/assets/colab-badge.svg\" alt=\"Open In Colab\"/></a>"
      ]
    },
    {
      "cell_type": "code",
      "execution_count": null,
      "metadata": {
        "id": "I-eBw2w-fb2d"
      },
      "outputs": [],
      "source": [
        "Projeto de DataScience SI6N\n"
      ]
    }
  ]
}